{
 "cells": [
  {
   "cell_type": "code",
   "execution_count": 1,
   "id": "5e506557-862e-47f7-af0b-38d325462f82",
   "metadata": {},
   "outputs": [
    {
     "name": "stdout",
     "output_type": "stream",
     "text": [
      "/home/sagemaker-user/Text-Summarizer/notebooks\n"
     ]
    }
   ],
   "source": [
    "!pwd"
   ]
  },
  {
   "cell_type": "code",
   "execution_count": 2,
   "id": "886175f8-8c91-424d-8c48-0351a5422024",
   "metadata": {},
   "outputs": [
    {
     "name": "stdout",
     "output_type": "stream",
     "text": [
      "/home/sagemaker-user/Text-Summarizer\n"
     ]
    }
   ],
   "source": [
    "%cd .."
   ]
  },
  {
   "cell_type": "markdown",
   "id": "105dc1ef-2213-48f1-b233-e505827210eb",
   "metadata": {},
   "source": [
    "# Configuration"
   ]
  },
  {
   "cell_type": "code",
   "execution_count": 3,
   "id": "e8ddb58d-cbf0-48ec-9e7d-cf24d91aeaa9",
   "metadata": {},
   "outputs": [],
   "source": [
    "from dataclasses import dataclass"
   ]
  },
  {
   "cell_type": "code",
   "execution_count": 4,
   "id": "2ed5fe3f-d163-4b86-8e80-2ae85fd2b96d",
   "metadata": {},
   "outputs": [],
   "source": [
    "@dataclass\n",
    "class EvalConfig:\n",
    "    folder_path: str\n",
    "    model_path: str\n",
    "    tokenizer_path: str\n",
    "    data_path: str"
   ]
  },
  {
   "cell_type": "markdown",
   "id": "306b14fc-ac92-4e30-a980-b703b8018e62",
   "metadata": {},
   "source": [
    "# Configuration Manager"
   ]
  },
  {
   "cell_type": "code",
   "execution_count": 5,
   "id": "c5068313-a475-4b4b-a1e9-af8d9f09eda8",
   "metadata": {},
   "outputs": [],
   "source": [
    "from src.config import ConfigManager\n",
    "from src.utils import create_dirs\n",
    "from os.path import join"
   ]
  },
  {
   "cell_type": "code",
   "execution_count": 6,
   "id": "a50c92af-d01b-480e-9635-6cd6450f03b7",
   "metadata": {},
   "outputs": [],
   "source": [
    "class ConfigManager(ConfigManager):\n",
    "    def get_eval_config(self):\n",
    "        direct = join(self.artifacts, self.config.evaluation.folder)\n",
    "        create_dirs([direct])\n",
    "\n",
    "        model_path = self.get_trainer_config().config_path+'/model'\n",
    "        tokenizer_path = self.get_trainer_config().config_path+'/tokenizer'\n",
    "        data_path = self.get_data_config().save_path\n",
    "\n",
    "        return EvalConfig(\n",
    "            folder_path=direct,\n",
    "            model_path=model_path,\n",
    "            tokenizer_path=tokenizer_path,\n",
    "            data_path=data_path\n",
    "        )"
   ]
  },
  {
   "cell_type": "markdown",
   "id": "ad673576-960c-4b9c-85d5-d9c542d9fb34",
   "metadata": {},
   "source": [
    "# Eval Class"
   ]
  },
  {
   "cell_type": "code",
   "execution_count": 7,
   "id": "bac2bb89-dee8-47bb-9134-40bf6708c603",
   "metadata": {},
   "outputs": [
    {
     "name": "stdout",
     "output_type": "stream",
     "text": [
      "[2024-10-09 12:08:10,189: INFO: config: PyTorch version 2.3.1.post100 available.]\n",
      "[2024-10-09 12:08:10,191: INFO: config: TensorFlow version 2.17.0 available.]\n"
     ]
    },
    {
     "name": "stderr",
     "output_type": "stream",
     "text": [
      "2024-10-09 12:08:11.633873: I tensorflow/core/util/port.cc:153] oneDNN custom operations are on. You may see slightly different numerical results due to floating-point round-off errors from different computation orders. To turn them off, set the environment variable `TF_ENABLE_ONEDNN_OPTS=0`.\n",
      "2024-10-09 12:08:11.662321: I tensorflow/core/platform/cpu_feature_guard.cc:210] This TensorFlow binary is optimized to use available CPU instructions in performance-critical operations.\n",
      "To enable the following instructions: SSE4.1 SSE4.2 AVX AVX2 AVX512F AVX512_VNNI FMA, in other operations, rebuild TensorFlow with the appropriate compiler flags.\n"
     ]
    }
   ],
   "source": [
    "from datasets import load_from_disk\n",
    "from transformers import AutoModelForSeq2SeqLM, AutoTokenizer\n",
    "import evaluate\n",
    "import torch\n",
    "import json\n",
    "from src import logger\n",
    "from tqdm import tqdm"
   ]
  },
  {
   "cell_type": "code",
   "execution_count": 16,
   "id": "ba7431a5-a9b4-40ce-b773-cd99c3c49efe",
   "metadata": {},
   "outputs": [],
   "source": [
    "class Eval:\n",
    "    def __init__(self, config: EvalConfig):\n",
    "        self.config = config\n",
    "\n",
    "    def generate_batch(self, list_of_elements, batch_size):\n",
    "        for i in range(0, len(list_of_elements), batch_size):\n",
    "            yield list_of_elements[i : i + batch_size]\n",
    "\n",
    "    def eval(self):\n",
    "        device = 'cuda' if torch.cuda.is_available() else 'cpu'\n",
    "\n",
    "        model = AutoModelForSeq2SeqLM.from_pretrained(self.config.model_path).to(device)\n",
    "        tokenizer = AutoTokenizer.from_pretrained(self.config.tokenizer_path)\n",
    "        test_data = load_from_disk(self.config.data_path, )['test']\n",
    "\n",
    "        inp_batches = list(self.generate_batch(test_data['dialogue'], 16))\n",
    "        tar_batches = list(self.generate_batch(test_data['summary'], 16))\n",
    "\n",
    "        rouge_metric = evaluate.load('rouge')\n",
    "\n",
    "        for inp_batch, tar_batch in tqdm(zip(inp_batches, tar_batches), total=len(inp_batches)):\n",
    "\n",
    "            inputs = tokenizer(\n",
    "                inp_batch, max_length=1024, padding='max_length', truncation=True, return_tensors=\"pt\"\n",
    "            )\n",
    "            summaries = model.generate(\n",
    "                input_ids=inputs[\"input_ids\"].to(device),\n",
    "                attention_mask=inputs[\"attention_mask\"].to(device),\n",
    "                length_penalty=0.8, num_beams=8, max_length=128\n",
    "            )\n",
    "\n",
    "            decoded_summaries = [\n",
    "                tokenizer.decode(summary, skip_special_tokens=True, clean_up_tokenization_spaces=True)\n",
    "                for summary in summaries\n",
    "            ]\n",
    "\n",
    "            rouge_metric.add_batch(predictions=decoded_summaries, references=tar_batch)\n",
    "\n",
    "        metrics = rouge_metric.compute()\n",
    "\n",
    "        with open(self.config.folder_path+'/eval.json', \"w\") as f:\n",
    "            json.dump(metrics, f, indent=4)\n",
    "            logger.info(f\"Evaluation file saved at: {self.config.folder_path}\")"
   ]
  },
  {
   "cell_type": "markdown",
   "id": "83e6828c-faf7-44a5-9b61-2a3d5e1978a9",
   "metadata": {},
   "source": [
    "# Run the step"
   ]
  },
  {
   "cell_type": "code",
   "execution_count": 17,
   "id": "3dfcc321-767c-4398-98a9-aaa5d4c619f7",
   "metadata": {},
   "outputs": [
    {
     "name": "stdout",
     "output_type": "stream",
     "text": [
      "[2024-10-09 12:51:55,496: INFO: utils: The file: params.yaml loaded successfully...]\n",
      "[2024-10-09 12:51:55,498: INFO: utils: The file: config.yaml loaded successfully...]\n"
     ]
    },
    {
     "name": "stderr",
     "output_type": "stream",
     "text": [
      "100%|██████████| 52/52 [36:39<00:00, 42.30s/it]"
     ]
    },
    {
     "name": "stdout",
     "output_type": "stream",
     "text": [
      "[2024-10-09 13:28:38,375: INFO: rouge_scorer: Using default tokenizer.]\n"
     ]
    },
    {
     "name": "stderr",
     "output_type": "stream",
     "text": [
      "\n"
     ]
    },
    {
     "name": "stdout",
     "output_type": "stream",
     "text": [
      "[2024-10-09 13:28:39,170: INFO: 1553023937: Evaluation file saved at: artifacts/eval]\n"
     ]
    }
   ],
   "source": [
    "try:\n",
    "    config = ConfigManager().get_eval_config()\n",
    "    Eval(config).eval()\n",
    "except Exception as e:\n",
    "    raise e"
   ]
  },
  {
   "cell_type": "code",
   "execution_count": null,
   "id": "93e48436-fda2-4933-8665-1a53b6ffd295",
   "metadata": {},
   "outputs": [],
   "source": []
  }
 ],
 "metadata": {
  "kernelspec": {
   "display_name": "Python 3 (ipykernel)",
   "language": "python",
   "name": "python3"
  },
  "language_info": {
   "codemirror_mode": {
    "name": "ipython",
    "version": 3
   },
   "file_extension": ".py",
   "mimetype": "text/x-python",
   "name": "python",
   "nbconvert_exporter": "python",
   "pygments_lexer": "ipython3",
   "version": "3.11.9"
  }
 },
 "nbformat": 4,
 "nbformat_minor": 5
}
