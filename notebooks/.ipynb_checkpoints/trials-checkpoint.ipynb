{
 "cells": [
  {
   "cell_type": "code",
   "execution_count": 1,
   "id": "2aad6db6-7097-44c5-bb0e-b903ccda2302",
   "metadata": {},
   "outputs": [],
   "source": [
    "import os\n",
    "from pathlib import Path"
   ]
  },
  {
   "cell_type": "code",
   "execution_count": 2,
   "id": "da72be1c-f390-499a-a5e8-00b5548e0305",
   "metadata": {},
   "outputs": [],
   "source": [
    "path = 'aa/bb/cc/'"
   ]
  },
  {
   "cell_type": "code",
   "execution_count": 3,
   "id": "a6265175-f218-4fc6-bca9-1e84705ab81b",
   "metadata": {},
   "outputs": [],
   "source": [
    "path = Path(path)\n",
    "direct, filename = os.path.split(path)"
   ]
  },
  {
   "cell_type": "code",
   "execution_count": 4,
   "id": "a3f52377-a4f2-49e0-86e8-73f0f1623f0b",
   "metadata": {},
   "outputs": [
    {
     "data": {
      "text/plain": [
       "'aa/bb'"
      ]
     },
     "execution_count": 4,
     "metadata": {},
     "output_type": "execute_result"
    }
   ],
   "source": [
    "direct"
   ]
  },
  {
   "cell_type": "code",
   "execution_count": 5,
   "id": "05a1cd20-318f-4e39-a286-88cc1cfaeda9",
   "metadata": {},
   "outputs": [
    {
     "data": {
      "text/plain": [
       "'cc'"
      ]
     },
     "execution_count": 5,
     "metadata": {},
     "output_type": "execute_result"
    }
   ],
   "source": [
    "filename"
   ]
  },
  {
   "cell_type": "code",
   "execution_count": null,
   "id": "8bd22724-4b56-4674-a9cb-ec35c0776648",
   "metadata": {},
   "outputs": [],
   "source": []
  }
 ],
 "metadata": {
  "kernelspec": {
   "display_name": "Python 3 (ipykernel)",
   "language": "python",
   "name": "python3"
  },
  "language_info": {
   "codemirror_mode": {
    "name": "ipython",
    "version": 3
   },
   "file_extension": ".py",
   "mimetype": "text/x-python",
   "name": "python",
   "nbconvert_exporter": "python",
   "pygments_lexer": "ipython3",
   "version": "3.11.9"
  }
 },
 "nbformat": 4,
 "nbformat_minor": 5
}
