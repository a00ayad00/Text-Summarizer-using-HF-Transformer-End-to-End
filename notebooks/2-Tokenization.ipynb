{
 "cells": [
  {
   "cell_type": "code",
   "execution_count": 4,
   "id": "a35788b7-39dc-4432-8bf4-e8d7b4822e4b",
   "metadata": {},
   "outputs": [
    {
     "name": "stdout",
     "output_type": "stream",
     "text": [
      "/home/sagemaker-user/Text-Summarizer/notebooks\n"
     ]
    }
   ],
   "source": [
    "!pwd"
   ]
  },
  {
   "cell_type": "code",
   "execution_count": 5,
   "id": "c9d88236-4711-4a3e-8ad9-8cfbc1951f89",
   "metadata": {},
   "outputs": [
    {
     "name": "stdout",
     "output_type": "stream",
     "text": [
      "/home/sagemaker-user/Text-Summarizer\n"
     ]
    }
   ],
   "source": [
    "%cd .."
   ]
  },
  {
   "cell_type": "markdown",
   "id": "663f9697-a156-47e7-9f8e-9384bf7b8194",
   "metadata": {},
   "source": [
    "# Configuration"
   ]
  },
  {
   "cell_type": "code",
   "execution_count": 1,
   "id": "1a4651b6-5f62-4dad-a554-780d2e7b3a6c",
   "metadata": {},
   "outputs": [],
   "source": [
    "from dataclasses import dataclass"
   ]
  },
  {
   "cell_type": "code",
   "execution_count": 20,
   "id": "de12fc43-6c14-47d6-9981-6576a683f30d",
   "metadata": {},
   "outputs": [],
   "source": [
    "@dataclass\n",
    "class TokenizationConfig:\n",
    "    direct: str\n",
    "    model_name: str\n",
    "    data_path: str"
   ]
  },
  {
   "cell_type": "markdown",
   "id": "0a2ab8cf-6d32-4efb-9739-d4374360ebd3",
   "metadata": {},
   "source": [
    "# Configuration Manager"
   ]
  },
  {
   "cell_type": "code",
   "execution_count": 11,
   "id": "740d1565-ec5a-44f9-8ffa-c96d6e15bed0",
   "metadata": {},
   "outputs": [],
   "source": [
    "from src.config import ConfigManager\n",
    "from src.utils import create_dirs\n",
    "from os.path import join"
   ]
  },
  {
   "cell_type": "code",
   "execution_count": 24,
   "id": "edb8cba7-1d22-4b7f-aad3-156c79dc90eb",
   "metadata": {},
   "outputs": [],
   "source": [
    "class ConfigManager(ConfigManager):\n",
    "    def get_tokenization_config(self):\n",
    "        config = self.config.tokenization\n",
    "        direct = join(self.artifacts, config.folder)\n",
    "\n",
    "        create_dirs([direct])\n",
    "\n",
    "        return TokenizationConfig(\n",
    "            direct=direct,\n",
    "            model_name=config.model_name,\n",
    "            data_path=self.get_data_config().save_path\n",
    "        )"
   ]
  },
  {
   "cell_type": "markdown",
   "id": "72d88dbd-0b88-49b7-b1eb-3101745096bd",
   "metadata": {},
   "source": [
    "# Tokenization"
   ]
  },
  {
   "cell_type": "code",
   "execution_count": 17,
   "id": "c01538b2-0028-4f14-b3b2-cb58573f464b",
   "metadata": {},
   "outputs": [],
   "source": [
    "from transformers import AutoTokenizer\n",
    "from datasets import load_from_disk"
   ]
  },
  {
   "cell_type": "code",
   "execution_count": 29,
   "id": "85716623-881a-4e25-8e2a-bba90a01e0e5",
   "metadata": {},
   "outputs": [],
   "source": [
    "class Tokenization:\n",
    "    def __init__(self, config: TokenizationConfig):\n",
    "        self.config = config\n",
    "        self.tokenizer = AutoTokenizer.from_pretrained(config.model_name)\n",
    "\n",
    "    def to_ids(self, examples):\n",
    "        inputs = self.tokenizer(examples['dialogue'], max_length=1024, truncation=True)\n",
    "\n",
    "        with self.tokenizer.as_target_tokenizer():\n",
    "            targets = self.tokenizer(examples['summary'], max_length=128, truncation=True)\n",
    "\n",
    "        return {\n",
    "            'input_ids': inputs['input_ids'],\n",
    "            'attention_`mask': inputs['attention_mask'],\n",
    "            'labels': targets['input_ids']\n",
    "        }\n",
    "\n",
    "    def tokenize(self):\n",
    "        data = load_from_disk(self.config.data_path)\n",
    "        tokenized_data = data.map(self.to_ids, batched=True)\n",
    "        tokenized_data.save_to_disk(self.config.direct)"
   ]
  },
  {
   "cell_type": "markdown",
   "id": "7023e720-cfce-4e74-b765-45667389e2e1",
   "metadata": {},
   "source": [
    "# Run the step"
   ]
  },
  {
   "cell_type": "code",
   "execution_count": 30,
   "id": "327a4ee3-1ddb-4a74-8c64-4d1732f5f5b0",
   "metadata": {},
   "outputs": [
    {
     "name": "stdout",
     "output_type": "stream",
     "text": [
      "[2024-10-08 07:01:16,587: INFO: utils: The file: config.yaml loaded successfully...]\n",
      "[2024-10-08 07:01:16,589: INFO: utils: The file: config.yaml loaded successfully...]\n"
     ]
    },
    {
     "name": "stderr",
     "output_type": "stream",
     "text": [
      "/opt/conda/lib/python3.11/site-packages/huggingface_hub/file_download.py:1150: FutureWarning: `resume_download` is deprecated and will be removed in version 1.0.0. Downloads always resume when possible. If you want to force a new download, use `force_download=True`.\n",
      "  warnings.warn(\n"
     ]
    },
    {
     "data": {
      "application/vnd.jupyter.widget-view+json": {
       "model_id": "8b0d60a0b59f4ad1aeb77b911a7e6da2",
       "version_major": 2,
       "version_minor": 0
      },
      "text/plain": [
       "Map:   0%|          | 0/14732 [00:00<?, ? examples/s]"
      ]
     },
     "metadata": {},
     "output_type": "display_data"
    },
    {
     "name": "stderr",
     "output_type": "stream",
     "text": [
      "/opt/conda/lib/python3.11/site-packages/transformers/tokenization_utils_base.py:3892: UserWarning: `as_target_tokenizer` is deprecated and will be removed in v5 of Transformers. You can tokenize your labels by using the argument `text_target` of the regular `__call__` method (either in the same call as your input texts if you use the same keyword arguments, or in a separate call.\n",
      "  warnings.warn(\n"
     ]
    },
    {
     "data": {
      "application/vnd.jupyter.widget-view+json": {
       "model_id": "e0cfd15bc6b2437c889f8f020b0bef9e",
       "version_major": 2,
       "version_minor": 0
      },
      "text/plain": [
       "Map:   0%|          | 0/819 [00:00<?, ? examples/s]"
      ]
     },
     "metadata": {},
     "output_type": "display_data"
    },
    {
     "data": {
      "application/vnd.jupyter.widget-view+json": {
       "model_id": "81ae117eb0d546c884ac77d0fe04fb7c",
       "version_major": 2,
       "version_minor": 0
      },
      "text/plain": [
       "Map:   0%|          | 0/818 [00:00<?, ? examples/s]"
      ]
     },
     "metadata": {},
     "output_type": "display_data"
    },
    {
     "data": {
      "application/vnd.jupyter.widget-view+json": {
       "model_id": "c031253554df46eba1d71da1920cd01f",
       "version_major": 2,
       "version_minor": 0
      },
      "text/plain": [
       "Saving the dataset (0/1 shards):   0%|          | 0/14732 [00:00<?, ? examples/s]"
      ]
     },
     "metadata": {},
     "output_type": "display_data"
    },
    {
     "data": {
      "application/vnd.jupyter.widget-view+json": {
       "model_id": "a5f223a570ec475d94fd9a8db59d9d4f",
       "version_major": 2,
       "version_minor": 0
      },
      "text/plain": [
       "Saving the dataset (0/1 shards):   0%|          | 0/819 [00:00<?, ? examples/s]"
      ]
     },
     "metadata": {},
     "output_type": "display_data"
    },
    {
     "data": {
      "application/vnd.jupyter.widget-view+json": {
       "model_id": "3157ab91be8d4317986b67c9a2d093e7",
       "version_major": 2,
       "version_minor": 0
      },
      "text/plain": [
       "Saving the dataset (0/1 shards):   0%|          | 0/818 [00:00<?, ? examples/s]"
      ]
     },
     "metadata": {},
     "output_type": "display_data"
    }
   ],
   "source": [
    "try:\n",
    "    config = ConfigManager().get_tokenization_config()\n",
    "    Tokenization(config).tokenize()\n",
    "except Exception as e:\n",
    "    raise e"
   ]
  }
 ],
 "metadata": {
  "kernelspec": {
   "display_name": "Python 3 (ipykernel)",
   "language": "python",
   "name": "python3"
  },
  "language_info": {
   "codemirror_mode": {
    "name": "ipython",
    "version": 3
   },
   "file_extension": ".py",
   "mimetype": "text/x-python",
   "name": "python",
   "nbconvert_exporter": "python",
   "pygments_lexer": "ipython3",
   "version": "3.11.9"
  }
 },
 "nbformat": 4,
 "nbformat_minor": 5
}
