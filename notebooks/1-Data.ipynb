{
 "cells": [
  {
   "cell_type": "code",
   "execution_count": 22,
   "id": "882214d1-c181-44e2-abc9-38a2f4a56350",
   "metadata": {},
   "outputs": [
    {
     "name": "stdout",
     "output_type": "stream",
     "text": [
      "/home/sagemaker-user/Text-Summarizer/notebooks\n"
     ]
    }
   ],
   "source": [
    "!pwd"
   ]
  },
  {
   "cell_type": "code",
   "execution_count": 23,
   "id": "ca5fef10-5e5c-4035-bbd0-a8b9710eaf16",
   "metadata": {},
   "outputs": [
    {
     "name": "stdout",
     "output_type": "stream",
     "text": [
      "/home/sagemaker-user/Text-Summarizer\n"
     ]
    }
   ],
   "source": [
    "%cd .."
   ]
  },
  {
   "cell_type": "markdown",
   "id": "dbf7d93b-ece4-4675-86d6-507470fb4b76",
   "metadata": {},
   "source": [
    "# Load the data"
   ]
  },
  {
   "cell_type": "code",
   "execution_count": 19,
   "id": "3f079f46-eda1-485f-84fe-019fdf42ea48",
   "metadata": {},
   "outputs": [],
   "source": [
    "from datasets import load_dataset\n",
    "from datasets.utils.logging import disable_progress_bar\n",
    "\n",
    "# datasets.config.DOWNLOADED_DATASETS_PATH = Path(target_path)\n",
    "\n",
    "disable_progress_bar()"
   ]
  },
  {
   "cell_type": "code",
   "execution_count": 18,
   "id": "858d16c8-a313-4f9d-b7e3-8ac5732dde1c",
   "metadata": {},
   "outputs": [],
   "source": [
    "samsum = load_dataset(\"Samsung/samsum\")"
   ]
  },
  {
   "cell_type": "code",
   "execution_count": 3,
   "id": "137b1d2f-c3df-4376-88be-f907729c3135",
   "metadata": {},
   "outputs": [
    {
     "data": {
      "text/plain": [
       "DatasetDict({\n",
       "    train: Dataset({\n",
       "        features: ['id', 'dialogue', 'summary'],\n",
       "        num_rows: 14732\n",
       "    })\n",
       "    test: Dataset({\n",
       "        features: ['id', 'dialogue', 'summary'],\n",
       "        num_rows: 819\n",
       "    })\n",
       "    validation: Dataset({\n",
       "        features: ['id', 'dialogue', 'summary'],\n",
       "        num_rows: 818\n",
       "    })\n",
       "})"
      ]
     },
     "execution_count": 3,
     "metadata": {},
     "output_type": "execute_result"
    }
   ],
   "source": [
    "samsum"
   ]
  },
  {
   "cell_type": "code",
   "execution_count": 8,
   "id": "8f0ee5fc-7620-49cf-aa0a-35d1ea39996d",
   "metadata": {},
   "outputs": [
    {
     "data": {
      "text/plain": [
       "{'id': '13818513',\n",
       " 'dialogue': \"Amanda: I baked  cookies. Do you want some?\\r\\nJerry: Sure!\\r\\nAmanda: I'll bring you tomorrow :-)\",\n",
       " 'summary': 'Amanda baked cookies and will bring Jerry some tomorrow.'}"
      ]
     },
     "execution_count": 8,
     "metadata": {},
     "output_type": "execute_result"
    }
   ],
   "source": [
    "samsum['train'][0]"
   ]
  },
  {
   "cell_type": "code",
   "execution_count": 6,
   "id": "e0c8fa15-c908-4b31-b56d-7bf4f8a292ea",
   "metadata": {},
   "outputs": [
    {
     "name": "stdout",
     "output_type": "stream",
     "text": [
      "Amanda: I baked  cookies. Do you want some?\n",
      "Jerry: Sure!\n",
      "Amanda: I'll bring you tomorrow :-)\n"
     ]
    }
   ],
   "source": [
    "print(samsum['train']['dialogue'][0])"
   ]
  },
  {
   "cell_type": "markdown",
   "id": "2235de92-848b-438b-93c7-e3eda9286224",
   "metadata": {},
   "source": [
    "# Data Configuration"
   ]
  },
  {
   "cell_type": "code",
   "execution_count": 27,
   "id": "2284e4a9-9e54-424a-ad39-a352200b0ecb",
   "metadata": {},
   "outputs": [],
   "source": [
    "from dataclasses import dataclass"
   ]
  },
  {
   "cell_type": "code",
   "execution_count": 25,
   "id": "1ab5c16d-15ee-498e-b2f1-101fc330cdc5",
   "metadata": {},
   "outputs": [],
   "source": [
    "@dataclass\n",
    "class DataConfig:\n",
    "    name: str\n",
    "    save_path: str"
   ]
  },
  {
   "cell_type": "markdown",
   "id": "13bc8154-a46e-4c03-b0f2-15cec0ce0f4d",
   "metadata": {},
   "source": [
    "# Configuration Manager"
   ]
  },
  {
   "cell_type": "code",
   "execution_count": 31,
   "id": "2494e7a5-5924-442e-86e8-3a6d380c13bd",
   "metadata": {},
   "outputs": [],
   "source": [
    "from src.constants import CONFIG_PATH, PARAMS_PATH\n",
    "from src.utils import create_dirs, read_yaml\n",
    "import os"
   ]
  },
  {
   "cell_type": "code",
   "execution_count": 26,
   "id": "c99af371-feb6-4aaa-81e3-a7b34ebd6fa6",
   "metadata": {},
   "outputs": [],
   "source": [
    "class ConfigManager:\n",
    "    def __init__(self, config_path=CONFIG_PATH, params_path=PARAMS_PATH):\n",
    "        self.params = read_yaml(config_path)\n",
    "        self.config = read_yaml(config_path)\n",
    "\n",
    "        self.artifacts = self.config.artifacts_folder_dir\n",
    "        create_dirs([self.artifacts])\n",
    "\n",
    "    def get_data_config(self):\n",
    "\n",
    "        data_config = self.config.data\n",
    "\n",
    "        return DataConfig(\n",
    "            name=data_config.name,\n",
    "            save_path=os.path.join(self.artifacts, data_config.folder)\n",
    "        )"
   ]
  },
  {
   "cell_type": "markdown",
   "id": "9fed3f56-7904-4973-837b-fa2ea1bb15a4",
   "metadata": {},
   "source": [
    "# Data Class"
   ]
  },
  {
   "cell_type": "code",
   "execution_count": 32,
   "id": "bb528ee3-287e-41e3-96af-1940f4c75a97",
   "metadata": {},
   "outputs": [],
   "source": [
    "from src import logger\n",
    "from src.utils import get_size"
   ]
  },
  {
   "cell_type": "code",
   "execution_count": 29,
   "id": "06422166-bde6-4404-a8e4-37006809ae84",
   "metadata": {},
   "outputs": [],
   "source": [
    "class Data:\n",
    "    def __init__(self, data_config: DataConfig):\n",
    "        self.config = data_config\n",
    "\n",
    "    def download(self):\n",
    "        name = self.config.name\n",
    "        path = self.config.save_path\n",
    "        \n",
    "        data = load_dataset(self.config.name)\n",
    "        data.save_to_disk(self.config.save_path)\n",
    "        logger.info(f'The data \"{name}\" loaded successfully and saved at \"{path}\" with size {get_size(path)} MB')"
   ]
  },
  {
   "cell_type": "markdown",
   "id": "b852dc05-f5a9-4317-9113-aa8bd071c5c2",
   "metadata": {},
   "source": [
    "# Run the step"
   ]
  },
  {
   "cell_type": "code",
   "execution_count": 30,
   "id": "404fce72-ba83-4597-a5c6-14f61bd47aa2",
   "metadata": {},
   "outputs": [
    {
     "name": "stdout",
     "output_type": "stream",
     "text": [
      "[2024-10-07 12:37:56,744: INFO: utils: The file: config.yaml loaded successfully...]\n",
      "[2024-10-07 12:37:56,746: INFO: utils: The file: config.yaml loaded successfully...]\n",
      "[2024-10-07 12:37:56,747: INFO: utils: \n",
      "Directory 'artifacts' was created successfully...]\n",
      "[2024-10-07 12:37:57,053: INFO: 3290135551: The data \"Samsung/samsum\" loaded successfully and saved at \"artifacts/data\" with size 10.05 MB]\n"
     ]
    }
   ],
   "source": [
    "try:\n",
    "    config = ConfigManager().get_data_config()\n",
    "    Data(config).download()\n",
    "\n",
    "except Exception as e:\n",
    "    raise e"
   ]
  },
  {
   "cell_type": "code",
   "execution_count": null,
   "id": "7ee0302a-cb07-400d-8c08-a13ae2c7222c",
   "metadata": {},
   "outputs": [],
   "source": []
  }
 ],
 "metadata": {
  "kernelspec": {
   "display_name": "Python 3 (ipykernel)",
   "language": "python",
   "name": "python3"
  },
  "language_info": {
   "codemirror_mode": {
    "name": "ipython",
    "version": 3
   },
   "file_extension": ".py",
   "mimetype": "text/x-python",
   "name": "python",
   "nbconvert_exporter": "python",
   "pygments_lexer": "ipython3",
   "version": "3.11.9"
  }
 },
 "nbformat": 4,
 "nbformat_minor": 5
}
